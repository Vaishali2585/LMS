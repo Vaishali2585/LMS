{
 "cells": [
  {
   "cell_type": "code",
   "execution_count": null,
   "id": "28712a3e-93b8-48a0-afbe-a26367a91268",
   "metadata": {},
   "outputs": [],
   "source": [
    "### addition +\n",
    "### subtraction -\n",
    "### multiplication *\n",
    "### division /\n",
    "### remainder %\n",
    "### power **\n",
    "### floor division //"
   ]
  },
  {
   "cell_type": "code",
   "execution_count": 18,
   "id": "e86e142c-4535-4cbe-8c41-a14146c1d10d",
   "metadata": {},
   "outputs": [],
   "source": [
    "a=30\n",
    "b=28\n",
    "c=18"
   ]
  },
  {
   "cell_type": "code",
   "execution_count": 3,
   "id": "c3cd3988-346b-4ab8-8a50-c6f437d596fd",
   "metadata": {},
   "outputs": [
    {
     "data": {
      "text/plain": [
       "int"
      ]
     },
     "execution_count": 3,
     "metadata": {},
     "output_type": "execute_result"
    }
   ],
   "source": [
    "type(c)"
   ]
  },
  {
   "cell_type": "code",
   "execution_count": 5,
   "id": "2998eb85-1227-4e59-aed7-d0e2dc72131c",
   "metadata": {},
   "outputs": [
    {
     "data": {
      "text/plain": [
       "540"
      ]
     },
     "execution_count": 5,
     "metadata": {},
     "output_type": "execute_result"
    }
   ],
   "source": [
    "d= a*c\n",
    "d"
   ]
  },
  {
   "cell_type": "code",
   "execution_count": 6,
   "id": "6290f345-2b08-4302-8ff6-1dd3c50247c5",
   "metadata": {},
   "outputs": [
    {
     "data": {
      "text/plain": [
       "28"
      ]
     },
     "execution_count": 6,
     "metadata": {},
     "output_type": "execute_result"
    }
   ],
   "source": [
    "z=a//b\n",
    "b"
   ]
  },
  {
   "cell_type": "code",
   "execution_count": 7,
   "id": "bfa12346-d992-4c27-96a3-715c3d36af29",
   "metadata": {},
   "outputs": [
    {
     "data": {
      "text/plain": [
       "703319657252384991734466121024877067274496793622971634312779970351534763678770062997557926387427439200558915019894268105612399177713518304894513139669994263252858880603114871644831327911981893758183556054686250242056425475238262904771754916154498469394498044687802181934902955510720497279476380471989169188724399747983800311632542913920794522703688073346147811219286074756597232408421580313301312352679252488693437698323042347485997403753399684425112535520827232830758872948189049129606877126065355270767277448361370541462470273939656305570633826843520669786816685183433358544459195434167487776167375991673796662551829679917966594796679644661304135944586564082066583418228965376"
      ]
     },
     "execution_count": 7,
     "metadata": {},
     "output_type": "execute_result"
    }
   ],
   "source": [
    "j=c**d\n",
    "j"
   ]
  },
  {
   "cell_type": "code",
   "execution_count": 8,
   "id": "ce9e8e7b-bfba-4913-90ef-43731459bff8",
   "metadata": {},
   "outputs": [
    {
     "data": {
      "text/plain": [
       "12"
      ]
     },
     "execution_count": 8,
     "metadata": {},
     "output_type": "execute_result"
    }
   ],
   "source": [
    "f=a%c\n",
    "f"
   ]
  },
  {
   "cell_type": "code",
   "execution_count": 9,
   "id": "8d1431c4-f44e-49b5-9420-7a272e701224",
   "metadata": {},
   "outputs": [
    {
     "data": {
      "text/plain": [
       "492"
      ]
     },
     "execution_count": 9,
     "metadata": {},
     "output_type": "execute_result"
    }
   ],
   "source": [
    "s=d-c-a\n",
    "s"
   ]
  },
  {
   "cell_type": "code",
   "execution_count": 10,
   "id": "f2786ed1-0f15-46b4-a7ab-0af70e818515",
   "metadata": {},
   "outputs": [
    {
     "data": {
      "text/plain": [
       "76"
      ]
     },
     "execution_count": 10,
     "metadata": {},
     "output_type": "execute_result"
    }
   ],
   "source": [
    "r= a+b+c\n",
    "r"
   ]
  },
  {
   "cell_type": "code",
   "execution_count": 11,
   "id": "831d4736-099a-4dc2-b556-dd04d8466d4f",
   "metadata": {},
   "outputs": [
    {
     "data": {
      "text/plain": [
       "True"
      ]
     },
     "execution_count": 11,
     "metadata": {},
     "output_type": "execute_result"
    }
   ],
   "source": [
    "a>b"
   ]
  },
  {
   "cell_type": "code",
   "execution_count": 12,
   "id": "6a07e20a-6fbf-44c6-a96a-53b290c49337",
   "metadata": {},
   "outputs": [
    {
     "data": {
      "text/plain": [
       "False"
      ]
     },
     "execution_count": 12,
     "metadata": {},
     "output_type": "execute_result"
    }
   ],
   "source": [
    "d<s\n"
   ]
  },
  {
   "cell_type": "code",
   "execution_count": 23,
   "id": "4667bfd0-6bce-4bdc-b487-220e62015728",
   "metadata": {},
   "outputs": [
    {
     "data": {
      "text/plain": [
       "1.6666666666666667"
      ]
     },
     "execution_count": 23,
     "metadata": {},
     "output_type": "execute_result"
    }
   ],
   "source": [
    "a/c"
   ]
  },
  {
   "cell_type": "code",
   "execution_count": 24,
   "id": "543e3423-ea1c-4d5a-a016-089989e88a7a",
   "metadata": {},
   "outputs": [
    {
     "data": {
      "text/plain": [
       "float"
      ]
     },
     "execution_count": 24,
     "metadata": {},
     "output_type": "execute_result"
    }
   ],
   "source": [
    "type(a/c)\n"
   ]
  },
  {
   "cell_type": "code",
   "execution_count": 25,
   "id": "7f8a7c22-2e03-4897-955f-9cd964d30f6e",
   "metadata": {},
   "outputs": [],
   "source": [
    "#logical operation"
   ]
  },
  {
   "cell_type": "code",
   "execution_count": 26,
   "id": "4d2e8825-9e5b-42e4-8226-9323b6d2884e",
   "metadata": {},
   "outputs": [
    {
     "data": {
      "text/plain": [
       "9.3"
      ]
     },
     "execution_count": 26,
     "metadata": {},
     "output_type": "execute_result"
    }
   ],
   "source": [
    "f=9.3\n",
    "f\n"
   ]
  },
  {
   "cell_type": "code",
   "execution_count": null,
   "id": "522f4eef-5f4c-417b-a43e-cf154bbc5a39",
   "metadata": {},
   "outputs": [],
   "source": []
  },
  {
   "cell_type": "code",
   "execution_count": 1,
   "id": "7b541d5c-a670-403a-8f52-ce71e75f150e",
   "metadata": {},
   "outputs": [
    {
     "data": {
      "text/plain": [
       "[23, 34, 45, 33]"
      ]
     },
     "execution_count": 1,
     "metadata": {},
     "output_type": "execute_result"
    }
   ],
   "source": [
    "a=[23,34,45,33]\n",
    "a"
   ]
  },
  {
   "cell_type": "code",
   "execution_count": 2,
   "id": "cec0cdaf-fb4e-4cf5-97ed-5901c764f20f",
   "metadata": {},
   "outputs": [
    {
     "data": {
      "text/plain": [
       "list"
      ]
     },
     "execution_count": 2,
     "metadata": {},
     "output_type": "execute_result"
    }
   ],
   "source": [
    "type(a)"
   ]
  },
  {
   "cell_type": "code",
   "execution_count": 9,
   "id": "b4b275de-6d6c-4363-92d2-96652f7a0ede",
   "metadata": {},
   "outputs": [
    {
     "data": {
      "text/plain": [
       "['happy', 26, 44.4]"
      ]
     },
     "execution_count": 9,
     "metadata": {},
     "output_type": "execute_result"
    }
   ],
   "source": [
    "v=['happy',26,44.4,]\n",
    "v"
   ]
  },
  {
   "cell_type": "code",
   "execution_count": 5,
   "id": "324e3940-2892-45ba-9a1b-360cf5670873",
   "metadata": {},
   "outputs": [
    {
     "data": {
      "text/plain": [
       "list"
      ]
     },
     "execution_count": 5,
     "metadata": {},
     "output_type": "execute_result"
    }
   ],
   "source": [
    "type(v)"
   ]
  },
  {
   "cell_type": "code",
   "execution_count": 11,
   "id": "9de085c4-0b2d-43d5-8154-642c7374290f",
   "metadata": {},
   "outputs": [
    {
     "data": {
      "text/plain": [
       "[True, False]"
      ]
     },
     "execution_count": 11,
     "metadata": {},
     "output_type": "execute_result"
    }
   ],
   "source": [
    "b=[True,False]\n",
    "b"
   ]
  },
  {
   "cell_type": "code",
   "execution_count": 8,
   "id": "7a8e5ab8-464a-4676-a382-d4d82feb1f83",
   "metadata": {},
   "outputs": [
    {
     "data": {
      "text/plain": [
       "list"
      ]
     },
     "execution_count": 8,
     "metadata": {},
     "output_type": "execute_result"
    }
   ],
   "source": [
    "type(b)"
   ]
  },
  {
   "cell_type": "code",
   "execution_count": 10,
   "id": "3da30106-b597-438a-af1a-b0a6ab14bc78",
   "metadata": {},
   "outputs": [
    {
     "data": {
      "text/plain": [
       "26"
      ]
     },
     "execution_count": 10,
     "metadata": {},
     "output_type": "execute_result"
    }
   ],
   "source": [
    "v[1]"
   ]
  },
  {
   "cell_type": "code",
   "execution_count": 12,
   "id": "fbfcb013-9e4a-445e-8892-70f711f5a887",
   "metadata": {},
   "outputs": [
    {
     "data": {
      "text/plain": [
       "True"
      ]
     },
     "execution_count": 12,
     "metadata": {},
     "output_type": "execute_result"
    }
   ],
   "source": [
    "b[0]"
   ]
  },
  {
   "cell_type": "code",
   "execution_count": 13,
   "id": "1e3dac0d-38eb-47e6-a013-54667d6109b5",
   "metadata": {},
   "outputs": [
    {
     "name": "stdout",
     "output_type": "stream",
     "text": [
      "konda vaishali goud\n"
     ]
    }
   ],
   "source": [
    "u='konda vaishali goud'\n",
    "print(u)"
   ]
  },
  {
   "cell_type": "code",
   "execution_count": 14,
   "id": "10425487-bd96-4ab3-a18d-0dc053624183",
   "metadata": {},
   "outputs": [
    {
     "data": {
      "text/plain": [
       "list"
      ]
     },
     "execution_count": 14,
     "metadata": {},
     "output_type": "execute_result"
    }
   ],
   "source": [
    "type(a)"
   ]
  },
  {
   "cell_type": "code",
   "execution_count": 15,
   "id": "354a45ec-5c94-4d42-8d24-a0efffa03a74",
   "metadata": {},
   "outputs": [
    {
     "data": {
      "text/plain": [
       "19"
      ]
     },
     "execution_count": 15,
     "metadata": {},
     "output_type": "execute_result"
    }
   ],
   "source": [
    "len(u)"
   ]
  },
  {
   "cell_type": "code",
   "execution_count": 26,
   "id": "0166a5fb-0f6e-4808-9b1c-d53ddabb0447",
   "metadata": {},
   "outputs": [
    {
     "data": {
      "text/plain": [
       "['pooja', 'hyderabad', True, 99, False]"
      ]
     },
     "execution_count": 26,
     "metadata": {},
     "output_type": "execute_result"
    }
   ],
   "source": [
    "k=['pooja','hyderabad',True,99,False,]\n",
    "k"
   ]
  },
  {
   "cell_type": "code",
   "execution_count": 17,
   "id": "b7a9d674-66d2-4302-999d-5f407e80c2ed",
   "metadata": {},
   "outputs": [
    {
     "data": {
      "text/plain": [
       "5"
      ]
     },
     "execution_count": 17,
     "metadata": {},
     "output_type": "execute_result"
    }
   ],
   "source": [
    "len(k)"
   ]
  },
  {
   "cell_type": "code",
   "execution_count": 18,
   "id": "6a09c252-9a7e-452e-9db1-7f8ca90b452b",
   "metadata": {},
   "outputs": [
    {
     "data": {
      "text/plain": [
       "list"
      ]
     },
     "execution_count": 18,
     "metadata": {},
     "output_type": "execute_result"
    }
   ],
   "source": [
    "type(a)"
   ]
  },
  {
   "cell_type": "code",
   "execution_count": 19,
   "id": "8978b4d7-1045-401f-9e56-51d82e1bc5ee",
   "metadata": {},
   "outputs": [
    {
     "data": {
      "text/plain": [
       "['pooja', 'hyderabad', True, 99, False]"
      ]
     },
     "execution_count": 19,
     "metadata": {},
     "output_type": "execute_result"
    }
   ],
   "source": [
    "k[0:5]"
   ]
  },
  {
   "cell_type": "code",
   "execution_count": 20,
   "id": "62ab7c0f-d2f1-4e78-8a8e-1fd9e2d28b15",
   "metadata": {},
   "outputs": [
    {
     "data": {
      "text/plain": [
       "['hyderabad', True, 99, False]"
      ]
     },
     "execution_count": 20,
     "metadata": {},
     "output_type": "execute_result"
    }
   ],
   "source": [
    "k[1:5\n",
    "]"
   ]
  },
  {
   "cell_type": "code",
   "execution_count": 21,
   "id": "67272411-08af-409e-9280-fb354d60e431",
   "metadata": {},
   "outputs": [
    {
     "data": {
      "text/plain": [
       "['hyderabad', True, 99]"
      ]
     },
     "execution_count": 21,
     "metadata": {},
     "output_type": "execute_result"
    }
   ],
   "source": [
    "k[1:4]"
   ]
  },
  {
   "cell_type": "code",
   "execution_count": 22,
   "id": "67a9f1d0-5214-4b7a-9108-06a82645d795",
   "metadata": {},
   "outputs": [
    {
     "data": {
      "text/plain": [
       "[]"
      ]
     },
     "execution_count": 22,
     "metadata": {},
     "output_type": "execute_result"
    }
   ],
   "source": [
    "k[3:3]"
   ]
  },
  {
   "cell_type": "code",
   "execution_count": 25,
   "id": "eba2f7f8-a5d5-4bb3-80d5-40106a27db76",
   "metadata": {},
   "outputs": [
    {
     "data": {
      "text/plain": [
       "99"
      ]
     },
     "execution_count": 25,
     "metadata": {},
     "output_type": "execute_result"
    }
   ],
   "source": [
    "k[3]"
   ]
  },
  {
   "cell_type": "code",
   "execution_count": 28,
   "id": "fbf1e161-19c0-4136-9b95-f59a66213202",
   "metadata": {},
   "outputs": [
    {
     "data": {
      "text/plain": [
       "'hyderabad'"
      ]
     },
     "execution_count": 28,
     "metadata": {},
     "output_type": "execute_result"
    }
   ],
   "source": [
    "k[-4\n",
    "]"
   ]
  },
  {
   "cell_type": "code",
   "execution_count": 30,
   "id": "2279ae9b-f6a5-436d-aea6-6046f0a69dbd",
   "metadata": {},
   "outputs": [
    {
     "data": {
      "text/plain": [
       "['pooja']"
      ]
     },
     "execution_count": 30,
     "metadata": {},
     "output_type": "execute_result"
    }
   ],
   "source": [
    "k[0:-2:5]"
   ]
  },
  {
   "cell_type": "code",
   "execution_count": 17,
   "id": "a34117ed-ffd6-4b9d-88c8-783a8c9eac34",
   "metadata": {},
   "outputs": [
    {
     "data": {
      "text/plain": [
       "{'friend', 'god', 'happy'}"
      ]
     },
     "execution_count": 17,
     "metadata": {},
     "output_type": "execute_result"
    }
   ],
   "source": [
    "d={'happy','god','friend'}\n",
    "d"
   ]
  },
  {
   "cell_type": "code",
   "execution_count": 8,
   "id": "8a0075dc-4088-4e40-afe2-50deb3a90b6f",
   "metadata": {},
   "outputs": [
    {
     "data": {
      "text/plain": [
       "set"
      ]
     },
     "execution_count": 8,
     "metadata": {},
     "output_type": "execute_result"
    }
   ],
   "source": [
    "type(d)"
   ]
  },
  {
   "cell_type": "code",
   "execution_count": 15,
   "id": "f526331a-dc92-4e12-ae63-4d8cf620df18",
   "metadata": {},
   "outputs": [
    {
     "data": {
      "text/plain": [
       "{'d', 'friend', 'g', 'god', 'happy', 'o'}"
      ]
     },
     "execution_count": 15,
     "metadata": {},
     "output_type": "execute_result"
    }
   ],
   "source": [
    "d.update('god')\n",
    "d"
   ]
  },
  {
   "cell_type": "code",
   "execution_count": 18,
   "id": "3400c3e7-c1c9-45e4-9012-f8d9b1aa3d6f",
   "metadata": {},
   "outputs": [
    {
     "data": {
      "text/plain": [
       "{'friend', 'god', 'happy', 'swathi'}"
      ]
     },
     "execution_count": 18,
     "metadata": {},
     "output_type": "execute_result"
    }
   ],
   "source": [
    "d.add('swathi')\n",
    "d"
   ]
  },
  {
   "cell_type": "code",
   "execution_count": 19,
   "id": "989527e8-5789-40a2-8e7f-835157af147f",
   "metadata": {},
   "outputs": [
    {
     "data": {
      "text/plain": [
       "4"
      ]
     },
     "execution_count": 19,
     "metadata": {},
     "output_type": "execute_result"
    }
   ],
   "source": [
    "len(d)"
   ]
  },
  {
   "cell_type": "code",
   "execution_count": 27,
   "id": "7acfa8be-fe5a-4fbc-81a3-ea9f4eaaab98",
   "metadata": {},
   "outputs": [
    {
     "data": {
      "text/plain": [
       "'india'"
      ]
     },
     "execution_count": 27,
     "metadata": {},
     "output_type": "execute_result"
    }
   ],
   "source": [
    "r='india'\n",
    "r"
   ]
  },
  {
   "cell_type": "code",
   "execution_count": 29,
   "id": "d2ddcd33-8abe-4ac6-9669-3970c68867a8",
   "metadata": {},
   "outputs": [
    {
     "data": {
      "text/plain": [
       "'INDIA'"
      ]
     },
     "execution_count": 29,
     "metadata": {},
     "output_type": "execute_result"
    }
   ],
   "source": [
    "r.upper()\n"
   ]
  },
  {
   "cell_type": "code",
   "execution_count": 30,
   "id": "93b1db44-fe40-42e3-a5a2-6750854b2a65",
   "metadata": {},
   "outputs": [
    {
     "data": {
      "text/plain": [
       "'india'"
      ]
     },
     "execution_count": 30,
     "metadata": {},
     "output_type": "execute_result"
    }
   ],
   "source": [
    "r.lower()"
   ]
  },
  {
   "cell_type": "code",
   "execution_count": 31,
   "id": "cdf50c33-36c3-496b-b0f4-32e862e78048",
   "metadata": {},
   "outputs": [
    {
     "data": {
      "text/plain": [
       "False"
      ]
     },
     "execution_count": 31,
     "metadata": {},
     "output_type": "execute_result"
    }
   ],
   "source": [
    "r.isdigit()"
   ]
  },
  {
   "cell_type": "code",
   "execution_count": 37,
   "id": "60cd9518-b43b-4083-8019-3f7c4550e77e",
   "metadata": {},
   "outputs": [
    {
     "data": {
      "text/plain": [
       "str"
      ]
     },
     "execution_count": 37,
     "metadata": {},
     "output_type": "execute_result"
    }
   ],
   "source": [
    "type(r)\n"
   ]
  },
  {
   "cell_type": "code",
   "execution_count": 41,
   "id": "9213130d-15da-4a55-983a-55eca9cc6ebe",
   "metadata": {},
   "outputs": [
    {
     "data": {
      "text/plain": [
       "'india'"
      ]
     },
     "execution_count": 41,
     "metadata": {},
     "output_type": "execute_result"
    }
   ],
   "source": [
    "r\n"
   ]
  },
  {
   "cell_type": "code",
   "execution_count": 50,
   "id": "92d2b7e4-8608-4608-8ae2-850f2cc29e8a",
   "metadata": {},
   "outputs": [
    {
     "data": {
      "text/plain": [
       "{}"
      ]
     },
     "execution_count": 50,
     "metadata": {},
     "output_type": "execute_result"
    }
   ],
   "source": [
    "h={}\n",
    "h\n"
   ]
  },
  {
   "cell_type": "code",
   "execution_count": 56,
   "id": "0647f84a-333a-4a7e-b6ec-328e29bf9859",
   "metadata": {},
   "outputs": [
    {
     "data": {
      "text/plain": [
       "{99: 'heloo', 45: 'hyderabad', 89: [78, 33]}"
      ]
     },
     "execution_count": 56,
     "metadata": {},
     "output_type": "execute_result"
    }
   ],
   "source": [
    "i={99: 'heloo',\n",
    "   45: 'hyderabad',\n",
    "   89: [78,33]}\n",
    "i\n"
   ]
  },
  {
   "cell_type": "code",
   "execution_count": 57,
   "id": "a3685d11-0656-4076-bf61-e6794e097d08",
   "metadata": {},
   "outputs": [
    {
     "data": {
      "text/plain": [
       "{99: 'heloo', 45: 'hyderabad', 89: [78, 33]}"
      ]
     },
     "execution_count": 57,
     "metadata": {},
     "output_type": "execute_result"
    }
   ],
   "source": [
    "i"
   ]
  },
  {
   "cell_type": "code",
   "execution_count": 58,
   "id": "d285c5d6-5824-4c01-a0c5-3392a9bcc463",
   "metadata": {},
   "outputs": [
    {
     "data": {
      "text/plain": [
       "dict"
      ]
     },
     "execution_count": 58,
     "metadata": {},
     "output_type": "execute_result"
    }
   ],
   "source": [
    "type(i)"
   ]
  },
  {
   "cell_type": "code",
   "execution_count": 59,
   "id": "32f532db-fa5b-4fb3-968f-510923ede908",
   "metadata": {},
   "outputs": [
    {
     "data": {
      "text/plain": [
       "3"
      ]
     },
     "execution_count": 59,
     "metadata": {},
     "output_type": "execute_result"
    }
   ],
   "source": [
    "len(i)"
   ]
  },
  {
   "cell_type": "code",
   "execution_count": 62,
   "id": "6000044b-01c8-4446-99b4-bc0345457c98",
   "metadata": {},
   "outputs": [
    {
     "data": {
      "text/plain": [
       "list"
      ]
     },
     "execution_count": 62,
     "metadata": {},
     "output_type": "execute_result"
    }
   ],
   "source": [
    "type(i[89])"
   ]
  },
  {
   "cell_type": "code",
   "execution_count": 63,
   "id": "a1673ae8-a5d1-4592-96d6-62a8ef7f4aa3",
   "metadata": {},
   "outputs": [
    {
     "data": {
      "text/plain": [
       "str"
      ]
     },
     "execution_count": 63,
     "metadata": {},
     "output_type": "execute_result"
    }
   ],
   "source": [
    "type(i[45])"
   ]
  },
  {
   "cell_type": "code",
   "execution_count": 64,
   "id": "a9502a4a-82f6-4db3-8dfd-da2f65f9db11",
   "metadata": {},
   "outputs": [
    {
     "data": {
      "text/plain": [
       "'heloo'"
      ]
     },
     "execution_count": 64,
     "metadata": {},
     "output_type": "execute_result"
    }
   ],
   "source": [
    "i[99]"
   ]
  },
  {
   "cell_type": "code",
   "execution_count": 65,
   "id": "d343cf3b-f388-45b5-be31-32207cac89d6",
   "metadata": {},
   "outputs": [
    {
     "data": {
      "text/plain": [
       "'HELOO'"
      ]
     },
     "execution_count": 65,
     "metadata": {},
     "output_type": "execute_result"
    }
   ],
   "source": [
    "i[99].upper()\n"
   ]
  },
  {
   "cell_type": "code",
   "execution_count": 67,
   "id": "b395ef79-f22a-4dcd-8ba4-86954f011fd8",
   "metadata": {},
   "outputs": [
    {
     "data": {
      "text/plain": [
       "{99: 'HELOO', 45: 'hyderabad', 89: [78, 33]}"
      ]
     },
     "execution_count": 67,
     "metadata": {},
     "output_type": "execute_result"
    }
   ],
   "source": [
    "i[99]=i[99].upper()\n",
    "i"
   ]
  },
  {
   "cell_type": "code",
   "execution_count": 72,
   "id": "cda495bd-68da-49d6-9755-117ac428cdd3",
   "metadata": {},
   "outputs": [
    {
     "data": {
      "text/plain": [
       "'hyderabad'"
      ]
     },
     "execution_count": 72,
     "metadata": {},
     "output_type": "execute_result"
    }
   ],
   "source": [
    "i[45].lower()"
   ]
  },
  {
   "cell_type": "code",
   "execution_count": 74,
   "id": "64c5a55d-85e2-467f-9f9d-4c38913f2cee",
   "metadata": {},
   "outputs": [
    {
     "data": {
      "text/plain": [
       "{101: {50: [7, 8, 9, 10],\n",
       "  'apple': (20, 10, 70, [90, 180, 170]),\n",
       "  102: 600,\n",
       "  107: 'biryani'}}"
      ]
     },
     "execution_count": 74,
     "metadata": {},
     "output_type": "execute_result"
    }
   ],
   "source": [
    "d[101]={50:[7,8,9,10],'apple':(20,10,70,[90,180,170]),\n",
    "       102: 600,\n",
    "       107: 'biryani'}\n",
    "d"
   ]
  },
  {
   "cell_type": "code",
   "execution_count": 75,
   "id": "b015da0a-0511-48c0-9171-15402678367e",
   "metadata": {},
   "outputs": [
    {
     "data": {
      "text/plain": [
       "dict"
      ]
     },
     "execution_count": 75,
     "metadata": {},
     "output_type": "execute_result"
    }
   ],
   "source": [
    "type(d)\n"
   ]
  },
  {
   "cell_type": "code",
   "execution_count": 81,
   "id": "87232e34-6ad3-4048-a5b5-798a68cc656d",
   "metadata": {},
   "outputs": [
    {
     "data": {
      "text/plain": [
       "dict_keys([50, 'apple', 102, 107])"
      ]
     },
     "execution_count": 81,
     "metadata": {},
     "output_type": "execute_result"
    }
   ],
   "source": [
    "d[101].keys()\n"
   ]
  },
  {
   "cell_type": "code",
   "execution_count": 82,
   "id": "628949f4-0be8-4c94-ae72-309fa89eb57c",
   "metadata": {},
   "outputs": [
    {
     "data": {
      "text/plain": [
       "(20, 10, 70, [90, 180, 170])"
      ]
     },
     "execution_count": 82,
     "metadata": {},
     "output_type": "execute_result"
    }
   ],
   "source": [
    "d[101]['apple']"
   ]
  },
  {
   "cell_type": "code",
   "execution_count": 86,
   "id": "b6a5a703-0cab-43b5-b10e-f00027541829",
   "metadata": {},
   "outputs": [
    {
     "data": {
      "text/plain": [
       "180"
      ]
     },
     "execution_count": 86,
     "metadata": {},
     "output_type": "execute_result"
    }
   ],
   "source": [
    "d[101]['apple'][3][1]"
   ]
  },
  {
   "cell_type": "code",
   "execution_count": 94,
   "id": "e41e4d8b-f873-4e1d-8d28-499cb728c257",
   "metadata": {},
   "outputs": [
    {
     "ename": "KeyError",
     "evalue": "103",
     "output_type": "error",
     "traceback": [
      "\u001b[1;31m---------------------------------------------------------------------------\u001b[0m",
      "\u001b[1;31mKeyError\u001b[0m                                  Traceback (most recent call last)",
      "Cell \u001b[1;32mIn[94], line 1\u001b[0m\n\u001b[1;32m----> 1\u001b[0m d[\u001b[38;5;241m103\u001b[39m]\n",
      "\u001b[1;31mKeyError\u001b[0m: 103"
     ]
    }
   ],
   "source": []
  },
  {
   "cell_type": "code",
   "execution_count": null,
   "id": "58338e6a-f316-4578-8580-99975a003f89",
   "metadata": {},
   "outputs": [],
   "source": []
  }
 ],
 "metadata": {
  "kernelspec": {
   "display_name": "Python 3 (ipykernel)",
   "language": "python",
   "name": "python3"
  },
  "language_info": {
   "codemirror_mode": {
    "name": "ipython",
    "version": 3
   },
   "file_extension": ".py",
   "mimetype": "text/x-python",
   "name": "python",
   "nbconvert_exporter": "python",
   "pygments_lexer": "ipython3",
   "version": "3.12.7"
  }
 },
 "nbformat": 4,
 "nbformat_minor": 5
}
